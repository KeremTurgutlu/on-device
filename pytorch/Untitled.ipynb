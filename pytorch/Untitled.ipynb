{
 "cells": [
  {
   "cell_type": "code",
   "execution_count": 1,
   "metadata": {},
   "outputs": [],
   "source": [
    "import warnings; warnings.filterwarnings(\"ignore\")\n",
    "import torch\n",
    "import torchvision\n",
    "import tensorflow as tf\n",
    "import onnx\n",
    "import onnx_tf\n",
    "from onnx_tf.backend import prepare\n",
    "\n",
    "model = torchvision.models.resnet18(True)\n",
    "\n",
    "dummy_input = torch.randn(1, 3, 224, 224) # nchw\n",
    "\n",
    "onnx_filename = \"resnet18.onnx\"\n",
    "\n",
    "torch.onnx.export(model, dummy_input,\n",
    "                  onnx_filename,\n",
    "                  verbose=True)\n",
    "\n",
    "torch_output = model(dummy_input)\n",
    "\n",
    "torch_output_np = torch_output.detach().numpy()\n",
    "\n",
    "torch_output_np.shape\n",
    "\n",
    "dummy_input_np = dummy_input.numpy()\n",
    "\n",
    "dummy_input_np.shape\n",
    "\n",
    "# step 2, create onnx_model using tensorflow as backend. check if right and export graph.\n",
    "onnx_model = onnx.load(onnx_filename)\n",
    "tf_rep = prepare(onnx_model, strict=False)\n",
    "\n",
    "tf_rep.tensor_dict[tf_rep.inputs[0]], tf_rep.tensor_dict[tf_rep.outputs[0]]\n",
    "\n",
    "gpu_options = tf.GPUOptions(per_process_gpu_memory_fraction=0.2)\n",
    "config=tf.ConfigProto(gpu_options=gpu_options)\n",
    "\n",
    "with tf.device(\"/device:cpu:0\"):\n",
    "    with tf_rep.graph.as_default():\n",
    "        with tf.Session() as sess:\n",
    "            feed_dict = {tf_rep.tensor_dict[key]: dummy_input_np for key in tf_rep.inputs}\n",
    "            sess.run(tf.global_variables_initializer())\n",
    "            outputs = [tf_rep.tensor_dict[output] for output in tf_rep.outputs]\n",
    "            tf_output = sess.run(outputs, feed_dict=feed_dict)"
   ]
  },
  {
   "cell_type": "code",
   "execution_count": 2,
   "metadata": {},
   "outputs": [],
   "source": [
    "from IPython.display import FileLink"
   ]
  },
  {
   "cell_type": "code",
   "execution_count": 3,
   "metadata": {},
   "outputs": [
    {
     "data": {
      "text/html": [
       "<a href='./resnet18.pb' target='_blank'>./resnet18.pb</a><br>"
      ],
      "text/plain": [
       "/home/ubuntu/on-device/pytorch/resnet18.pb"
      ]
     },
     "execution_count": 3,
     "metadata": {},
     "output_type": "execute_result"
    }
   ],
   "source": [
    "FileLink('./resnet18.pb')"
   ]
  },
  {
   "cell_type": "code",
   "execution_count": 4,
   "metadata": {},
   "outputs": [
    {
     "data": {
      "text/html": [
       "<a href='./input_image.npy' target='_blank'>./input_image.npy</a><br>"
      ],
      "text/plain": [
       "/home/ubuntu/on-device/pytorch/input_image.npy"
      ]
     },
     "execution_count": 4,
     "metadata": {},
     "output_type": "execute_result"
    }
   ],
   "source": [
    "FileLink('./input_image.npy')"
   ]
  },
  {
   "cell_type": "code",
   "execution_count": null,
   "metadata": {},
   "outputs": [],
   "source": []
  },
  {
   "cell_type": "code",
   "execution_count": null,
   "metadata": {},
   "outputs": [],
   "source": []
  }
 ],
 "metadata": {
  "kernelspec": {
   "display_name": "Python 3",
   "language": "python",
   "name": "python3"
  }
 },
 "nbformat": 4,
 "nbformat_minor": 2
}
